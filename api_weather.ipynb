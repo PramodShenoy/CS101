{
 "cells": [
  {
   "cell_type": "code",
   "execution_count": 4,
   "metadata": {
    "collapsed": true
   },
   "outputs": [],
   "source": [
    "import requests\n",
    "import json\n",
    "import pprint"
   ]
  },
  {
   "cell_type": "code",
   "execution_count": 5,
   "metadata": {
    "collapsed": false
   },
   "outputs": [
    {
     "name": "stdout",
     "output_type": "stream",
     "text": [
      "enter citylondon\n"
     ]
    }
   ],
   "source": [
    "url=\"http://api.openweathermap.org/data/2.5/weather?q=\"\n",
    "city=raw_input('enter city')\n",
    "url=url+city\n",
    "params={'mode':'json','units':'metric','appid':'97619ed8a2bf8eb3d53514149299955e'}\n",
    "response=requests.get(url,params) \n",
    "data=response.json()"
   ]
  },
  {
   "cell_type": "code",
   "execution_count": 6,
   "metadata": {
    "collapsed": false
   },
   "outputs": [
    {
     "name": "stdout",
     "output_type": "stream",
     "text": [
      "{u'base': u'stations',\n",
      " u'clouds': {u'all': 36},\n",
      " u'cod': 200,\n",
      " u'coord': {u'lat': 51.51, u'lon': -0.13},\n",
      " u'dt': 1487528890,\n",
      " u'id': 2643743,\n",
      " u'main': {u'grnd_level': 1027.13,\n",
      "           u'humidity': 83,\n",
      "           u'pressure': 1027.13,\n",
      "           u'sea_level': 1034.81,\n",
      "           u'temp': 8.7,\n",
      "           u'temp_max': 8.7,\n",
      "           u'temp_min': 8.7},\n",
      " u'name': u'London',\n",
      " u'sys': {u'country': u'GB',\n",
      "          u'message': 0.0069,\n",
      "          u'sunrise': 1487487884,\n",
      "          u'sunset': 1487525074},\n",
      " u'weather': [{u'description': u'scattered clouds',\n",
      "               u'icon': u'03n',\n",
      "               u'id': 802,\n",
      "               u'main': u'Clouds'}],\n",
      " u'wind': {u'deg': 249.001, u'speed': 3.2}}\n",
      "51.51 , -0.13\n",
      "avg temp= 8.7\n",
      "weather: scattered clouds\n"
     ]
    }
   ],
   "source": [
    "#print response.url\n",
    "pp=pprint.PrettyPrinter()\n",
    "pp.pprint(data)\n",
    "print (data['coord']['lat']),',',(data['coord']['lon'])\n",
    "print 'avg temp=',data['main']['temp']\n",
    "print 'weather:',data['weather'][0]['description']"
   ]
  }
 ],
 "metadata": {
  "kernelspec": {
   "display_name": "Python 2",
   "language": "python",
   "name": "python2"
  },
  "language_info": {
   "codemirror_mode": {
    "name": "ipython",
    "version": 2
   },
   "file_extension": ".py",
   "mimetype": "text/x-python",
   "name": "python",
   "nbconvert_exporter": "python",
   "pygments_lexer": "ipython2",
   "version": "2.7.12"
  }
 },
 "nbformat": 4,
 "nbformat_minor": 2
}
